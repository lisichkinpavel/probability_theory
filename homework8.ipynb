{
 "cells": [
  {
   "cell_type": "markdown",
   "metadata": {},
   "source": [
    "__Задача 1__\n",
    "\n",
    "Объясняемая переменная `y` зависит от двух категориальных факторов `A` и `B`, причём фактор `A` имеет 3 уровня, а фактор `B` - 4 уровня. Результаты наблюдений приведены в таблице:\n",
    "\n",
    "```\n",
    "y = [[2.68, 3.29, 2.88, 4.45],\n",
    "     [4.12, 4.96, 5.09, 5.22],\n",
    "     [5.52, 4.50, 5.42, 5.29]]\n",
    "```\n",
    "\n",
    "С помощью двухфакторного дисперсионного анализа проверьте влияние каждого из факторов на переменную `y`."
   ]
  },
  {
   "cell_type": "code",
   "execution_count": 1,
   "metadata": {},
   "outputs": [],
   "source": [
    "import numpy as np"
   ]
  },
  {
   "cell_type": "code",
   "execution_count": 3,
   "metadata": {},
   "outputs": [],
   "source": [
    "y = [[2.68, 3.29, 2.88, 4.45],\n",
    "     [4.12, 4.96, 5.09, 5.22],\n",
    "     [5.52, 4.50, 5.42, 5.29]]"
   ]
  },
  {
   "cell_type": "code",
   "execution_count": 4,
   "metadata": {},
   "outputs": [],
   "source": [
    "y = np.array(y)"
   ]
  },
  {
   "cell_type": "code",
   "execution_count": 5,
   "metadata": {},
   "outputs": [
    {
     "name": "stdout",
     "output_type": "stream",
     "text": [
      "k = 3\n",
      "m = 4\n",
      "n = 12\n"
     ]
    }
   ],
   "source": [
    "k = y.shape[0]\n",
    "m = y.shape[1]\n",
    "n = m * k \n",
    "print (f'k = {k}\\nm = {m}\\nn = {n}')"
   ]
  },
  {
   "cell_type": "code",
   "execution_count": 15,
   "metadata": {},
   "outputs": [
    {
     "data": {
      "text/plain": [
       "4.451666666666666"
      ]
     },
     "execution_count": 15,
     "metadata": {},
     "output_type": "execute_result"
    }
   ],
   "source": [
    "y_mean = y.mean()\n",
    "y_mean"
   ]
  },
  {
   "cell_type": "code",
   "execution_count": 16,
   "metadata": {},
   "outputs": [
    {
     "name": "stdout",
     "output_type": "stream",
     "text": [
      "SSa = 5.881\n"
     ]
    }
   ],
   "source": [
    "# Найдем сумму квадратов отклонений по фактору А (строки матрицы)\n",
    "summ = 0\n",
    "for i in range(k):\n",
    "    _ = (y[i,:].mean() - y_mean)**2\n",
    "    summ += _\n",
    "SSa = round(k * summ,3)\n",
    "print(f'SSa = {SSa}')"
   ]
  },
  {
   "cell_type": "code",
   "execution_count": 8,
   "metadata": {},
   "outputs": [
    {
     "name": "stdout",
     "output_type": "stream",
     "text": [
      "SSb = 1.784\n"
     ]
    }
   ],
   "source": [
    "# Найдем сумму квадратов отклонений по фактору B (столбцы матрицы)\n",
    "\n",
    "summ = 0\n",
    "for i in range(m):\n",
    "    _ = (y[:,i].mean() - y_mean)**2\n",
    "    summ += _\n",
    "SSb = round(m * summ, 3)\n",
    "print(f'SSb = {SSb}')"
   ]
  },
  {
   "cell_type": "code",
   "execution_count": 9,
   "metadata": {},
   "outputs": [
    {
     "name": "stdout",
     "output_type": "stream",
     "text": [
      "SSw = 1.93\n"
     ]
    }
   ],
   "source": [
    "# Найдем сумму квадратов отклонений по двум факторам\n",
    "\n",
    "summ = 0\n",
    "for i in range(k):\n",
    "    for j in range(m):\n",
    "        _ = (y[i,j] - y[i,:].mean() - y[:,j].mean() + y_mean)**2 \n",
    "        summ += _\n",
    "SSw = round(summ, 3)\n",
    "print(f'SSw = {SSw}')"
   ]
  },
  {
   "cell_type": "code",
   "execution_count": 10,
   "metadata": {},
   "outputs": [
    {
     "name": "stdout",
     "output_type": "stream",
     "text": [
      "sigma2_a = 1.9603333333333335\n",
      "sigma2_b = 0.892\n",
      "sigma2_w = 0.32166666666666666\n",
      "\n"
     ]
    }
   ],
   "source": [
    "# Найдем дисперсии\n",
    "sigma2_a = SSa / (m - 1)\n",
    "sigma2_b = SSb / (k - 1)\n",
    "sigma2_w = SSw / ((k - 1)*(m - 1))\n",
    "\n",
    "print(f'sigma2_a = {sigma2_a}\\nsigma2_b = {sigma2_b}\\nsigma2_w = {sigma2_w}\\n')\n",
    "\n"
   ]
  },
  {
   "cell_type": "code",
   "execution_count": 11,
   "metadata": {},
   "outputs": [
    {
     "name": "stdout",
     "output_type": "stream",
     "text": [
      "F_a = 6.094300518134716\n",
      "F_b = 2.773056994818653\n"
     ]
    }
   ],
   "source": [
    "# Нам нужно проверить влияние каждого фактор\n",
    "# Поэтому у нас будет две статистики, обе имеют распределение Фишера и правосторонюю критическю область\n",
    "# За Нулевые гипотезы примем, что каждый из факторов не влияет на целевую переменную\n",
    "\n",
    "F_a = sigma2_a / sigma2_w\n",
    "F_b = sigma2_b / sigma2_w\n",
    "\n",
    "print(f'F_a = {F_a}\\nF_b = {F_b}')"
   ]
  },
  {
   "cell_type": "code",
   "execution_count": 12,
   "metadata": {},
   "outputs": [],
   "source": [
    "from scipy import stats"
   ]
  },
  {
   "cell_type": "code",
   "execution_count": 13,
   "metadata": {},
   "outputs": [
    {
     "name": "stdout",
     "output_type": "stream",
     "text": [
      "Критическая область для фактора А: (4.06618055135116, +inf)\n",
      "Критическая область для фактора B: (4.25649472909375, +inf)\n"
     ]
    }
   ],
   "source": [
    "# Найдем критические области\n",
    "\n",
    "k1a = m - 1\n",
    "k2a = n - m \n",
    "\n",
    "k1b = k - 1\n",
    "k2b = n - k\n",
    "\n",
    "alpha = 0.05 # задаем уровень значимости\n",
    "\n",
    "t_a = stats.f.ppf(1-alpha, k1a, k2a)\n",
    "t_b = stats.f.ppf(1-alpha, k1b, k2b)\n",
    "print(f'Критическая область для фактора А: ({t_a}, +inf)')\n",
    "print(f'Критическая область для фактора B: ({t_b}, +inf)')"
   ]
  },
  {
   "cell_type": "markdown",
   "metadata": {},
   "source": [
    "Статистика F_a __входит__ в критическую область для фактора А. Значит принимаем альтернативную гипотезу, о том что фактор А __влияет__ на переменную y.\n",
    "\n",
    "Статистика F_b __не входит__ в критическую область для фактора B. Значит принимаем нулевую гипотезу, о том что фактор B __не влияет__ на переменную y."
   ]
  },
  {
   "cell_type": "code",
   "execution_count": null,
   "metadata": {},
   "outputs": [],
   "source": []
  }
 ],
 "metadata": {
  "kernelspec": {
   "display_name": "Python 3",
   "language": "python",
   "name": "python3"
  },
  "language_info": {
   "codemirror_mode": {
    "name": "ipython",
    "version": 3
   },
   "file_extension": ".py",
   "mimetype": "text/x-python",
   "name": "python",
   "nbconvert_exporter": "python",
   "pygments_lexer": "ipython3",
   "version": "3.8.5"
  }
 },
 "nbformat": 4,
 "nbformat_minor": 4
}
