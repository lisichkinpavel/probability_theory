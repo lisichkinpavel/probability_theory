{
 "cells": [
  {
   "cell_type": "markdown",
   "metadata": {},
   "source": [
    "__Задача 1__\n",
    "\n",
    "Контрольная работа состоит из пяти вопросов. На каждый вопрос приведено четыре варианта ответа, один из которых правильный. Составьте закон распределения числа правильных ответов при простом угадывании. Найдите `M(X)`, `D(X)`."
   ]
  },
  {
   "cell_type": "markdown",
   "metadata": {},
   "source": [
    "5 вопросов - это количество испытаний. Обозначим n = 5\n",
    "В каждом вопросе 4 варианта ответа, один из которых правильный. Следовательно вероятность угадать правильный ответ в каждом вопросе равна p = 1/4.\n",
    "X - количество правильно угаданных ответов. X может принять значение от 0 до 5.\n",
    "Рассчитаем вероятность появления события для каждого испытания:\n",
    "$$P(X = 0) = C_n^k p^k (1 - p)^{n - k} = C_5^0 \\cdot 0.25^0 \\cdot 0.75^5 = \\frac{5!}{0! \\: (5-0)!} \\cdot 0.25^0 \\cdot 0.75^5 = 1 \\cdot 1 \\cdot 0.237 = 0.237$$\n",
    "\n",
    "$$P(X = 1) =  C_5^1 \\cdot 0.25^1 \\cdot 0.75^4 = \\frac{5!}{1! \\: (5-1)!} \\cdot 0.25^1 \\cdot 0.75^4 = 1 \\cdot 0.25 \\cdot 0.316 = 0.396$$"
   ]
  },
  {
   "cell_type": "markdown",
   "metadata": {},
   "source": [
    "Дальше я решил не считать все вручную, потому что долго набирать. Поэтому написал функцию которая возвращает вероятность в каждом испытании"
   ]
  },
  {
   "cell_type": "code",
   "execution_count": 2,
   "metadata": {},
   "outputs": [],
   "source": [
    "import numpy as np"
   ]
  },
  {
   "cell_type": "code",
   "execution_count": 36,
   "metadata": {},
   "outputs": [
    {
     "name": "stdout",
     "output_type": "stream",
     "text": [
      "[0.237, 0.396, 0.264, 0.088, 0.015, 0.001]\n"
     ]
    }
   ],
   "source": [
    "def p_bernoulli(n:int,p:float):\n",
    "    res = []\n",
    "    for k in range(0,n+1): \n",
    "        c = np.math.factorial(n)/(np.math.factorial(k)* np.math.factorial(n-k))\n",
    "        p_x = c * pow(p,k) * pow((1-p),n-k)\n",
    "        res.append(round(p_x,3))\n",
    "    return res\n",
    "print(p_bernoulli(5,0.25))"
   ]
  },
  {
   "cell_type": "markdown",
   "metadata": {},
   "source": [
    "Получаем:\n",
    "$$P(X = 0) = 0.237$$ \n",
    "$$P(X = 1) = 0.396$$ \n",
    "$$P(X = 2) = 0.264$$ \n",
    "$$P(X = 3) = 0.088$$ \n",
    "$$P(X = 4) = 0.015$$ \n",
    "$$P(X = 5) = 0.001$$ "
   ]
  },
  {
   "cell_type": "markdown",
   "metadata": {},
   "source": [
    "Мат. ожидание $$M(X) = np = 5 \\cdot 0.25 = 1.25$$"
   ]
  },
  {
   "cell_type": "markdown",
   "metadata": {},
   "source": [
    "Дисперсия $$D(X) = np(1 - p) = 5 \\cdot 0.25 \\cdot (1 - 0.25) = 0.9375$$"
   ]
  },
  {
   "cell_type": "markdown",
   "metadata": {},
   "source": [
    "__Задача 2__\n",
    "\n",
    "Пользователь получает в среднем 10 писем со спамом на свой почтовый ящик за сутки. Найти число `N`, такое, что с вероятностью 0.95 пользователь получит не более `N` писем со спамом за текущий день."
   ]
  },
  {
   "cell_type": "markdown",
   "metadata": {},
   "source": [
    "Здесь у нас Пуассоновское распределение с лямбда = 10. Для того чтобы найти такое число писем N, мы должны сложить вероятности событий получения 0,1,2 ... N писем до того момента пока вероятность не будет равна 0,95."
   ]
  },
  {
   "cell_type": "code",
   "execution_count": 15,
   "metadata": {},
   "outputs": [
    {
     "name": "stdout",
     "output_type": "stream",
     "text": [
      "p = 0.9512595966960214\n",
      "N = 15\n"
     ]
    }
   ],
   "source": [
    "lambda_ = 10\n",
    "k = 0\n",
    "p_sum = 0\n",
    "while True:\n",
    "    p = (lambda_ ** k) * (np.exp(-lambda_)) / np.math.factorial(k)\n",
    "    p_sum +=p\n",
    "    if p_sum <= 0.95:\n",
    "        k += 1\n",
    "    else:\n",
    "        print(f'p = {p_sum}')\n",
    "        print(f'N = {k}')\n",
    "        break"
   ]
  },
  {
   "cell_type": "markdown",
   "metadata": {},
   "source": [
    "Получаем что пользователь получит не более 15 писем в день с вероятностью p = 0.9512595966960214."
   ]
  },
  {
   "cell_type": "markdown",
   "metadata": {},
   "source": [
    "__Задача 3__\n",
    "\n",
    "Производятся выстрелы по мишени. Вероятность попадания в мишень при одном выстреле равна 0.01. Сколько выстрелов нужно сделать чтобы быть уверенным с вероятностью 0.9, что хотя бы 6 раз будет совершено попадание?\n",
    "\n",
    "_Подсказка_: 1) \"Вероятность попасть `k` раз при `n` выстрелах\" - на какое распределение это похоже? 2) А если нам нужна вероятность `P(X >= k)`, а не `P(X = k)`? 3) Здесь предстоит немножко покодить."
   ]
  },
  {
   "cell_type": "markdown",
   "metadata": {},
   "source": [
    "Здсь налицо Биномиальное распределение. Чтобы найти итоговое количество выстрелов нам нужен цикл, который будет высчитывать вероятность 6 попаданий при каждом последующим выстреле и сумма этих вероятностей не должна быть меньше 0.9.Начинать цикл будем при n = 6 - это минимальное число выстрелов при которых возможно наступление события."
   ]
  },
  {
   "cell_type": "code",
   "execution_count": 23,
   "metadata": {},
   "outputs": [
    {
     "name": "stdout",
     "output_type": "stream",
     "text": [
      "0.9185129699543314\n",
      "230\n"
     ]
    }
   ],
   "source": [
    "def p_bernoulli(n:int,p:float,k:int):\n",
    "    c = np.math.factorial(n)/(np.math.factorial(k)* np.math.factorial(n-k))\n",
    "    p_x = c * pow(p,k) * pow((1-p),n-k)\n",
    "    return p_x\n",
    "\n",
    "n = 6\n",
    "p_sum\n",
    "while True:\n",
    "    p_sum += p_bernoulli(n,0.01,6)\n",
    "    if p_sum <= 0.9:\n",
    "        n += 1\n",
    "    else:\n",
    "        print(p_sum)\n",
    "        print(n)\n",
    "        break\n",
    "\n"
   ]
  },
  {
   "cell_type": "markdown",
   "metadata": {},
   "source": [
    "Соответсвенно вероятностью 0.9185129699543314 стрелок попадет в мишень 6 раз при 230 выстрелах."
   ]
  },
  {
   "cell_type": "code",
   "execution_count": null,
   "metadata": {},
   "outputs": [],
   "source": []
  }
 ],
 "metadata": {
  "kernelspec": {
   "display_name": "Python 3",
   "language": "python",
   "name": "python3"
  },
  "language_info": {
   "codemirror_mode": {
    "name": "ipython",
    "version": 3
   },
   "file_extension": ".py",
   "mimetype": "text/x-python",
   "name": "python",
   "nbconvert_exporter": "python",
   "pygments_lexer": "ipython3",
   "version": "3.8.3"
  },
  "latex_envs": {
   "LaTeX_envs_menu_present": true,
   "autoclose": true,
   "autocomplete": true,
   "bibliofile": "biblio.bib",
   "cite_by": "apalike",
   "current_citInitial": 1,
   "eqLabelWithNumbers": true,
   "eqNumInitial": 1,
   "hotkeys": {
    "equation": "Ctrl-E",
    "itemize": "Ctrl-I"
   },
   "labels_anchors": false,
   "latex_user_defs": true,
   "report_style_numbering": false,
   "user_envs_cfg": false
  },
  "toc": {
   "base_numbering": 1,
   "nav_menu": {},
   "number_sections": true,
   "sideBar": true,
   "skip_h1_title": false,
   "title_cell": "Table of Contents",
   "title_sidebar": "Contents",
   "toc_cell": false,
   "toc_position": {},
   "toc_section_display": true,
   "toc_window_display": false
  }
 },
 "nbformat": 4,
 "nbformat_minor": 4
}
