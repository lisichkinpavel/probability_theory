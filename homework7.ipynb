{
 "cells": [
  {
   "cell_type": "markdown",
   "metadata": {},
   "source": [
    "### Упражнения"
   ]
  },
  {
   "cell_type": "code",
   "execution_count": 2,
   "metadata": {},
   "outputs": [],
   "source": [
    "import matplotlib.pyplot as plt"
   ]
  },
  {
   "cell_type": "code",
   "execution_count": 3,
   "metadata": {},
   "outputs": [],
   "source": [
    "import seaborn as sns"
   ]
  },
  {
   "cell_type": "code",
   "execution_count": 4,
   "metadata": {},
   "outputs": [],
   "source": [
    "import numpy as np"
   ]
  },
  {
   "cell_type": "markdown",
   "metadata": {},
   "source": [
    "__Задача 1__\n",
    "\n",
    "Дана матрица объект-признак\n",
    "```\n",
    "X = [[ 1.22401313,  2.30868478,  3.03636353,  2.69287214],\n",
    "     [-0.18757272,  1.30337355,  5.12093014,  3.46363202],\n",
    "     [-0.81094525,  1.82463398,  5.79686488,  1.86159445],\n",
    "     [ 0.75129018,  2.67392052,  3.65529809,  1.66746094],\n",
    "     [ 0.00972362,  1.97367255,  2.50594319,  1.69755173],\n",
    "     [-0.62972637,  0.77750764,  2.84124027,  4.54410559],\n",
    "     [ 2.29536229,  1.81206697,  1.95026215,  1.51874636],\n",
    "     [ 0.0920418 ,  2.26971361,  7.47708735,  2.61081203],\n",
    "     [ 2.39252799,  3.17563985,  3.61420599,  5.10773362],\n",
    "     [ 0.54983815,  2.87988651,  1.65752765,  1.59635987]]\n",
    "```\n",
    "и значения целевой переменной\n",
    "```\n",
    "y = [ 9.26193358,  9.700363  ,  8.67214805,  8.74796974,  6.18689108,\n",
    "      7.53312713,  7.57643777, 12.44965478, 14.29010746,  6.68361218]\n",
    "```\n",
    "\n",
    "1. Подберите два признака (из четырёх) так, чтобы уровень линейной зависимости целевой переменной от значений этих признаков был максимальным. Другими словами, модель линейной регрессии на этих признаках должна давать наилучший результат.\n",
    "2. Является ли значимым получившееся уравнение регрессии?"
   ]
  },
  {
   "cell_type": "code",
   "execution_count": 5,
   "metadata": {},
   "outputs": [],
   "source": [
    "x = [[ 1.22401313,  2.30868478,  3.03636353,  2.69287214],\n",
    "     [-0.18757272,  1.30337355,  5.12093014,  3.46363202],\n",
    "     [-0.81094525,  1.82463398,  5.79686488,  1.86159445],\n",
    "     [ 0.75129018,  2.67392052,  3.65529809,  1.66746094],\n",
    "     [ 0.00972362,  1.97367255,  2.50594319,  1.69755173],\n",
    "     [-0.62972637,  0.77750764,  2.84124027,  4.54410559],\n",
    "     [ 2.29536229,  1.81206697,  1.95026215,  1.51874636],\n",
    "     [ 0.0920418 ,  2.26971361,  7.47708735,  2.61081203],\n",
    "     [ 2.39252799,  3.17563985,  3.61420599,  5.10773362],\n",
    "     [ 0.54983815,  2.87988651,  1.65752765,  1.59635987]]"
   ]
  },
  {
   "cell_type": "code",
   "execution_count": 6,
   "metadata": {},
   "outputs": [],
   "source": [
    "y = [ 9.26193358,  9.700363  ,  8.67214805,  8.74796974,  6.18689108,\n",
    "      7.53312713,  7.57643777, 12.44965478, 14.29010746,  6.68361218]"
   ]
  },
  {
   "cell_type": "code",
   "execution_count": 7,
   "metadata": {},
   "outputs": [],
   "source": [
    "x = np.array(x)\n",
    "y = np.array(y)"
   ]
  },
  {
   "cell_type": "code",
   "execution_count": 8,
   "metadata": {},
   "outputs": [
    {
     "data": {
      "text/plain": [
       "array([[ 1.22401313,  2.30868478,  3.03636353,  2.69287214],\n",
       "       [-0.18757272,  1.30337355,  5.12093014,  3.46363202],\n",
       "       [-0.81094525,  1.82463398,  5.79686488,  1.86159445],\n",
       "       [ 0.75129018,  2.67392052,  3.65529809,  1.66746094],\n",
       "       [ 0.00972362,  1.97367255,  2.50594319,  1.69755173],\n",
       "       [-0.62972637,  0.77750764,  2.84124027,  4.54410559],\n",
       "       [ 2.29536229,  1.81206697,  1.95026215,  1.51874636],\n",
       "       [ 0.0920418 ,  2.26971361,  7.47708735,  2.61081203],\n",
       "       [ 2.39252799,  3.17563985,  3.61420599,  5.10773362],\n",
       "       [ 0.54983815,  2.87988651,  1.65752765,  1.59635987]])"
      ]
     },
     "execution_count": 8,
     "metadata": {},
     "output_type": "execute_result"
    }
   ],
   "source": [
    "x"
   ]
  },
  {
   "cell_type": "code",
   "execution_count": 9,
   "metadata": {},
   "outputs": [],
   "source": [
    "import itertools"
   ]
  },
  {
   "cell_type": "code",
   "execution_count": 10,
   "metadata": {},
   "outputs": [],
   "source": [
    "features_comb = list(itertools.combinations(range(np.shape(x)[1]), 2))"
   ]
  },
  {
   "cell_type": "code",
   "execution_count": 11,
   "metadata": {},
   "outputs": [],
   "source": [
    "def features_compare(matrix:np.ndarray, y:np.ndarray, two_features:tuple):\n",
    "    x = np.vstack((matrix[:,two_features[0]], matrix[:,two_features[1]])).T\n",
    "    ones = np.ones((x.shape[0], 1))\n",
    "    x = np.hstack((ones, x))\n",
    "    XTX = x.T.dot(x)\n",
    "    np.linalg.det(XTX)\n",
    "    XTX_inv = np.linalg.inv(XTX)\n",
    "    b = XTX_inv.dot(x.T).dot(y)\n",
    "    z = x.dot(b)\n",
    "    e = y - z\n",
    "    R = 1 - e.var() / y.var()   \n",
    "    print(f'Колонки с признаками:{two_features[0]},{two_features[1]}. Коэф.детерминации:{R}')\n",
    "    return R"
   ]
  },
  {
   "cell_type": "code",
   "execution_count": 12,
   "metadata": {},
   "outputs": [
    {
     "name": "stdout",
     "output_type": "stream",
     "text": [
      "Колонки с признаками:0,1. Коэф.детерминации:0.18113594742585215\n",
      "Колонки с признаками:0,2. Коэф.детерминации:0.7634246238793152\n",
      "Колонки с признаками:0,3. Коэф.детерминации:0.4532966783144077\n",
      "Колонки с признаками:1,2. Коэф.детерминации:0.5479482734039011\n",
      "Колонки с признаками:1,3. Коэф.детерминации:0.6062055761129931\n",
      "Колонки с признаками:2,3. Коэф.детерминации:0.622441987650532\n"
     ]
    }
   ],
   "source": [
    "for i in features_comb:\n",
    "    features_compare(x,y,i)"
   ]
  },
  {
   "cell_type": "code",
   "execution_count": null,
   "metadata": {},
   "outputs": [],
   "source": []
  },
  {
   "cell_type": "markdown",
   "metadata": {},
   "source": [
    "Будем использовать F-статистику:\n",
    "$$F = \\dfrac{R^2 / m}{(1 - R^2) / (n - m - 1)},$$\n",
    "\n",
    "$k_1 = m$, $k_2 = n - m - 1$."
   ]
  },
  {
   "cell_type": "code",
   "execution_count": 13,
   "metadata": {},
   "outputs": [
    {
     "data": {
      "text/plain": [
       "11.29443912292265"
      ]
     },
     "execution_count": 13,
     "metadata": {},
     "output_type": "execute_result"
    }
   ],
   "source": [
    "R_square = 0.7634246238793152\n",
    "k1 = 2\n",
    "k2 = x.shape[0] - 2 - 1\n",
    "F = (R_square / k1) / ((1-R_square) / k2)\n",
    "F"
   ]
  },
  {
   "cell_type": "code",
   "execution_count": 14,
   "metadata": {},
   "outputs": [],
   "source": [
    "from scipy import stats"
   ]
  },
  {
   "cell_type": "code",
   "execution_count": 15,
   "metadata": {},
   "outputs": [
    {
     "data": {
      "text/plain": [
       "4.73741412777588"
      ]
     },
     "execution_count": 15,
     "metadata": {},
     "output_type": "execute_result"
    }
   ],
   "source": [
    "alpha = 0.05\n",
    "t = stats.f.ppf(1 - alpha, k1, k2)\n",
    "t"
   ]
  },
  {
   "cell_type": "markdown",
   "metadata": {},
   "source": [
    "Критическая область у нас правосторонняя, значение F-статистики попадает в критическую область, следовательно значение уравнения регрессии является статистически значимым."
   ]
  },
  {
   "cell_type": "markdown",
   "metadata": {},
   "source": [
    "__Задача 2__\n",
    "\n",
    "Для проведения A/B-тестирования сайта интернет-магазина были получены следующие данные: страница `A` была посещена 2509 раз, из них 77 закончились совершением покупки, страница `B` была посещена 1465 раз, 60 из них закончились совершением покупки. Является ли значимым отличие конверсии на страницах `A` и `B`?"
   ]
  },
  {
   "cell_type": "code",
   "execution_count": 44,
   "metadata": {},
   "outputs": [
    {
     "data": {
      "text/plain": [
       "((2509,), (array([0., 1.]), array([2432,   77])))"
      ]
     },
     "execution_count": 44,
     "metadata": {},
     "output_type": "execute_result"
    }
   ],
   "source": [
    "a  = np.zeros(2509)\n",
    "a[0:77] = 1\n",
    "a.shape, np.unique(a, return_counts=True)"
   ]
  },
  {
   "cell_type": "code",
   "execution_count": 46,
   "metadata": {},
   "outputs": [
    {
     "data": {
      "text/plain": [
       "((1465,), (array([0., 1.]), array([1405,   60])))"
      ]
     },
     "execution_count": 46,
     "metadata": {},
     "output_type": "execute_result"
    }
   ],
   "source": [
    "b = np.zeros(1465)\n",
    "b[0:60] = 1\n",
    "b.shape, np.unique(b, return_counts=True)"
   ]
  },
  {
   "cell_type": "code",
   "execution_count": 47,
   "metadata": {},
   "outputs": [
    {
     "data": {
      "text/plain": [
       "((3974,), (array([0., 1.]), array([3837,  137])))"
      ]
     },
     "execution_count": 47,
     "metadata": {},
     "output_type": "execute_result"
    }
   ],
   "source": [
    "c = np.concatenate((a,b))\n",
    "c.shape, np.unique(c, return_counts=True)"
   ]
  },
  {
   "cell_type": "code",
   "execution_count": 49,
   "metadata": {},
   "outputs": [
    {
     "name": "stdout",
     "output_type": "stream",
     "text": [
      "0.03068951773614986 0.040955631399317405 0.03447408152994464\n"
     ]
    }
   ],
   "source": [
    "# Найдем средние выборок\n",
    "a_mean = a.mean()\n",
    "b_mean = b.mean()\n",
    "c_mean = c.mean()\n",
    "\n",
    "print(a_mean, b_mean, c_mean)"
   ]
  },
  {
   "cell_type": "code",
   "execution_count": 53,
   "metadata": {},
   "outputs": [
    {
     "name": "stdout",
     "output_type": "stream",
     "text": [
      "2509 1465 3974\n"
     ]
    }
   ],
   "source": [
    "# Определим размеры выборок\n",
    "n_a = a.shape[0]\n",
    "n_b = b.shape[0]\n",
    "n_c = c.shape[0]\n",
    "\n",
    "print(n_a, n_b, n_c)"
   ]
  },
  {
   "cell_type": "code",
   "execution_count": 54,
   "metadata": {},
   "outputs": [
    {
     "data": {
      "text/plain": [
       "(0.09748158004016791, 132.17956925035745)"
      ]
     },
     "execution_count": 54,
     "metadata": {},
     "output_type": "execute_result"
    }
   ],
   "source": [
    "# Вычислим отклонения между группами и внутри групп\n",
    "SSb = n_a*(c_mean - a_mean)**2 + n_b*(c_mean - b_mean)**2\n",
    "SSw = ((a - a_mean)**2).sum() + ((b - b_mean)**2).sum()\n",
    "SSb, SSw"
   ]
  },
  {
   "cell_type": "code",
   "execution_count": 57,
   "metadata": {},
   "outputs": [
    {
     "name": "stdout",
     "output_type": "stream",
     "text": [
      "0.09748158004016791 0.03327783717279895\n"
     ]
    }
   ],
   "source": [
    "# Вычислим несмещённые оценки дисперсий\n",
    "k = 2 # Количество выборок\n",
    "n = n_c # Размер объединенных выборок\n",
    "\n",
    "sigma2_b = SSb / (k - 1)\n",
    "sigma2_k = SSw / (n - k)\n",
    "\n",
    "print(sigma2_b, sigma2_k)"
   ]
  },
  {
   "cell_type": "code",
   "execution_count": 61,
   "metadata": {},
   "outputs": [
    {
     "data": {
      "text/plain": [
       "2.9293243889013496"
      ]
     },
     "execution_count": 61,
     "metadata": {},
     "output_type": "execute_result"
    }
   ],
   "source": [
    "# Вычислим значение статистики\n",
    "F = sigma2_b / sigma2_k\n",
    "F"
   ]
  },
  {
   "cell_type": "code",
   "execution_count": 84,
   "metadata": {},
   "outputs": [
    {
     "name": "stdout",
     "output_type": "stream",
     "text": [
      "Правосторонняя критическая область: (3.8438010503414866, +inf)\n"
     ]
    }
   ],
   "source": [
    "# Статистика имеет распределение Фишера\n",
    "# Найдем критическую область\n",
    "alpha = 0.05 # Задаем уровень значимости\n",
    "\n",
    "t = stats.f.ppf(1-alpha, k-1, n-k)\n",
    "print(f'Правосторонняя критическая область: ({t}, +inf)')"
   ]
  },
  {
   "cell_type": "markdown",
   "metadata": {},
   "source": [
    "Значение статистики не попадает в критическую область, следовательно различия между средними по выборкам не являются значимыми."
   ]
  },
  {
   "cell_type": "markdown",
   "metadata": {},
   "source": [
    "__Квартет Энскомба__ — популярный в области анализа данных пример наборов данных, у которых практически совпадают все статистические свойства (средние, дисперсии, коэффициенты корреляции, регрессионные линии), однако, существенно отличаются графики. Данный пример призван показать, насколько важна визуализация данных. Датасет представляет собой 4 пары выборок:\n",
    "\n",
    "```\n",
    "{\n",
    "    \"x1\": [10.0, 8.0, 13.0, 9.0, 11.0, 14.0, 6.0, 4.0, 12.0, 7.0, 5.0],\n",
    "    \"y1\": [8.04, 6.95, 7.58, 8.81, 8.33, 9.96, 7.24, 4.26, 10.84, 4.82, 5.68],\n",
    "    \"x2\": [10.0, 8.0, 13.0, 9.0, 11.0, 14.0, 6.0, 4.0, 12.0, 7.0, 5.0],\n",
    "    \"y2\": [9.14, 8.14, 8.74, 8.77, 9.26, 8.1, 6.13, 3.1, 9.13, 7.26, 4.74],\n",
    "    \"x3\": [10.0, 8.0, 13.0, 9.0, 11.0, 14.0, 6.0, 4.0, 12.0, 7.0, 5.0],\n",
    "    \"y3\": [7.46, 6.77, 12.74, 7.11, 7.81, 8.84, 6.08, 5.39, 8.15, 6.42, 5.73],\n",
    "    \"x4\": [8.0, 8.0, 8.0, 8.0, 8.0, 8.0, 8.0, 19.0, 8.0, 8.0, 8.0],\n",
    "    \"y4\": [6.58, 5.76, 7.71, 8.84, 8.47, 7.04, 5.25, 12.5, 5.56, 7.91, 6.89]\n",
    "}\n",
    "```\n",
    "\n",
    "По каждой паре выборок посчитайте:\n",
    "\n",
    "1. выборочное среднее и дисперсию каждой выборки,\n",
    "2. коэффициент корреляции Пирсона и прямую линейной регрессии.\n",
    "\n",
    "Убедившись в том, что они не практически не отличаются, постройте `scatter plot` по каждой паре выборок."
   ]
  },
  {
   "cell_type": "code",
   "execution_count": 63,
   "metadata": {},
   "outputs": [],
   "source": [
    "dataset = {\n",
    "            \"x1\": [10.0, 8.0, 13.0, 9.0, 11.0, 14.0, 6.0, 4.0, 12.0, 7.0, 5.0],\n",
    "            \"y1\": [8.04, 6.95, 7.58, 8.81, 8.33, 9.96, 7.24, 4.26, 10.84, 4.82, 5.68],\n",
    "            \"x2\": [10.0, 8.0, 13.0, 9.0, 11.0, 14.0, 6.0, 4.0, 12.0, 7.0, 5.0],\n",
    "            \"y2\": [9.14, 8.14, 8.74, 8.77, 9.26, 8.1, 6.13, 3.1, 9.13, 7.26, 4.74],\n",
    "            \"x3\": [10.0, 8.0, 13.0, 9.0, 11.0, 14.0, 6.0, 4.0, 12.0, 7.0, 5.0],\n",
    "            \"y3\": [7.46, 6.77, 12.74, 7.11, 7.81, 8.84, 6.08, 5.39, 8.15, 6.42, 5.73],\n",
    "            \"x4\": [8.0, 8.0, 8.0, 8.0, 8.0, 8.0, 8.0, 19.0, 8.0, 8.0, 8.0],\n",
    "            \"y4\": [6.58, 5.76, 7.71, 8.84, 8.47, 7.04, 5.25, 12.5, 5.56, 7.91, 6.89]\n",
    "          }"
   ]
  },
  {
   "cell_type": "code",
   "execution_count": 71,
   "metadata": {},
   "outputs": [
    {
     "name": "stdout",
     "output_type": "stream",
     "text": [
      "x1, y1\n",
      "Выборочное среднее: 9.0, 7.500909090909093\n",
      "Дисперсия по выборке: 10.0, 3.7520628099173554\n",
      "Коэффициент корреляции Пирсона: 0.81642051634484 \n",
      "\n",
      "x2, y2\n",
      "Выборочное среднее: 9.0, 7.50090909090909\n",
      "Дисперсия по выборке: 10.0, 3.752390082644628\n",
      "Коэффициент корреляции Пирсона: 0.8162365060002427 \n",
      "\n",
      "x3, y3\n",
      "Выборочное среднее: 9.0, 7.5\n",
      "Дисперсия по выборке: 10.0, 3.747836363636364\n",
      "Коэффициент корреляции Пирсона: 0.8162867394895982 \n",
      "\n",
      "x4, y4\n",
      "Выборочное среднее: 9.0, 7.500909090909091\n",
      "Дисперсия по выборке: 10.0, 3.7484082644628103\n",
      "Коэффициент корреляции Пирсона: 0.8165214368885028 \n",
      "\n"
     ]
    }
   ],
   "source": [
    "for i in range(1,5):\n",
    "    x = dataset[f'x{i}']\n",
    "    y = dataset[f'y{i}']\n",
    "    \n",
    "    print(f'x{i}, y{i}')\n",
    "    print(f'Выборочное среднее: {np.mean(x)}, {np.mean(y)}')\n",
    "    print(f'Дисперсия по выборке: {np.var(x)}, {np.var(y)}')\n",
    "    print(f'Коэффициент корреляции Пирсона: {np.corrcoef(x,y)[0,1]} \\n')\n",
    "        "
   ]
  },
  {
   "cell_type": "code",
   "execution_count": 83,
   "metadata": {},
   "outputs": [
    {
     "data": {
      "image/png": "[encoded data removed]",
      "text/plain": [
       "<Figure size 720x576 with 4 Axes>"
      ]
     },
     "metadata": {},
     "output_type": "display_data"
    }
   ],
   "source": [
    "plt.style.use('seaborn-whitegrid')\n",
    "fig, axes = plt.subplots(nrows=2, ncols=2)\n",
    "fig.set_size_inches(10, 8)\n",
    "fig.subplots_adjust(hspace = 0.3)\n",
    "ox = np.linspace(0,20, num=10*4)\n",
    "\n",
    "for i, ax in enumerate(axes.flatten()):\n",
    "    i += 1\n",
    "    x = dataset[f'x{i}']\n",
    "    y = dataset[f'y{i}']\n",
    "    \n",
    "    b1 = np.cov(x, y, ddof=1)[0, 1] / np.var(x, ddof=1)\n",
    "    b0 = np.mean(y) - b1 * np.mean(x)\n",
    "    \n",
    "    \n",
    "    oy = b0 + b1 * ox\n",
    "\n",
    "    ax.scatter(x, y)\n",
    "    ax.plot(ox, oy, color='red', alpha=0.5)\n",
    "    ax.set_xlim(0,20)\n",
    "    ax.set_ylim(2,14)\n",
    "    ax.set_title(f'x{i}, y{i} \\n b0 = {round(b0,3)}, b1 = {round(b1,3)}')"
   ]
  },
  {
   "cell_type": "code",
   "execution_count": null,
   "metadata": {},
   "outputs": [],
   "source": []
  }
 ],
 "metadata": {
  "kernelspec": {
   "display_name": "Python 3",
   "language": "python",
   "name": "python3"
  },
  "language_info": {
   "codemirror_mode": {
    "name": "ipython",
    "version": 3
   },
   "file_extension": ".py",
   "mimetype": "text/x-python",
   "name": "python",
   "nbconvert_exporter": "python",
   "pygments_lexer": "ipython3",
   "version": "3.8.5"
  }
 },
 "nbformat": 4,
 "nbformat_minor": 4
}
